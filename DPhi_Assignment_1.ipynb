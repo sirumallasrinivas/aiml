{
  "nbformat": 4,
  "nbformat_minor": 0,
  "metadata": {
    "colab": {
      "name": "DPhi_Assignment_1.ipynb",
      "provenance": [],
      "collapsed_sections": [],
      "toc_visible": true,
      "authorship_tag": "ABX9TyPsAFGk0GMvg3KhJg2rzIhq",
      "include_colab_link": true
    },
    "kernelspec": {
      "name": "python3",
      "display_name": "Python 3"
    }
  },
  "cells": [
    {
      "cell_type": "markdown",
      "metadata": {
        "id": "view-in-github",
        "colab_type": "text"
      },
      "source": [
        "<a href=\"https://colab.research.google.com/github/sirumallasrinivas/aiml/blob/main/DPhi_Assignment_1.ipynb\" target=\"_parent\"><img src=\"https://colab.research.google.com/assets/colab-badge.svg\" alt=\"Open In Colab\"/></a>"
      ]
    },
    {
      "cell_type": "markdown",
      "metadata": {
        "id": "b5FnVjqU2nqm"
      },
      "source": [
        "# Assignment 1"
      ]
    },
    {
      "cell_type": "code",
      "metadata": {
        "id": "qsNjc7Ls2eb3"
      },
      "source": [
        "#import required libraries\r\n",
        "import pandas as pd\r\n",
        "import numpy as np\r\n",
        "\r\n",
        "import matplotlib.pyplot as plt\r\n",
        "import seaborn as sns\r\n",
        "\r\n",
        "import warnings\r\n",
        "warnings.filterwarnings('ignore')\r\n",
        "\r\n",
        "from sklearn.model_selection import train_test_split\r\n",
        "\r\n",
        "from sklearn.linear_model import LogisticRegression\r\n",
        "\r\n",
        "from sklearn import preprocessing\r\n",
        "from sklearn.preprocessing import LabelEncoder\r\n",
        "\r\n",
        "from sklearn.metrics import f1_score\r\n",
        "\r\n",
        "\r\n"
      ],
      "execution_count": 2,
      "outputs": []
    },
    {
      "cell_type": "code",
      "metadata": {
        "colab": {
          "base_uri": "https://localhost:8080/",
          "height": 289
        },
        "id": "Fa7_Y3oY27M3",
        "outputId": "48f7e547-7c7d-4eee-de32-308f8d9d4161"
      },
      "source": [
        "insurance_data  = pd.read_csv(\"https://raw.githubusercontent.com/dphi-official/Datasets/master/travel_insurance/Training_set_label.csv\" )\r\n",
        "insurance_data.head()\r\n"
      ],
      "execution_count": 3,
      "outputs": [
        {
          "output_type": "execute_result",
          "data": {
            "text/html": [
              "<div>\n",
              "<style scoped>\n",
              "    .dataframe tbody tr th:only-of-type {\n",
              "        vertical-align: middle;\n",
              "    }\n",
              "\n",
              "    .dataframe tbody tr th {\n",
              "        vertical-align: top;\n",
              "    }\n",
              "\n",
              "    .dataframe thead th {\n",
              "        text-align: right;\n",
              "    }\n",
              "</style>\n",
              "<table border=\"1\" class=\"dataframe\">\n",
              "  <thead>\n",
              "    <tr style=\"text-align: right;\">\n",
              "      <th></th>\n",
              "      <th>Agency</th>\n",
              "      <th>Agency Type</th>\n",
              "      <th>Distribution Channel</th>\n",
              "      <th>Product Name</th>\n",
              "      <th>Duration</th>\n",
              "      <th>Destination</th>\n",
              "      <th>Net Sales</th>\n",
              "      <th>Commision (in value)</th>\n",
              "      <th>Gender</th>\n",
              "      <th>Age</th>\n",
              "      <th>Claim</th>\n",
              "    </tr>\n",
              "  </thead>\n",
              "  <tbody>\n",
              "    <tr>\n",
              "      <th>0</th>\n",
              "      <td>CWT</td>\n",
              "      <td>Travel Agency</td>\n",
              "      <td>Online</td>\n",
              "      <td>Rental Vehicle Excess Insurance</td>\n",
              "      <td>61</td>\n",
              "      <td>UNITED KINGDOM</td>\n",
              "      <td>19.8</td>\n",
              "      <td>11.88</td>\n",
              "      <td>NaN</td>\n",
              "      <td>29</td>\n",
              "      <td>0</td>\n",
              "    </tr>\n",
              "    <tr>\n",
              "      <th>1</th>\n",
              "      <td>EPX</td>\n",
              "      <td>Travel Agency</td>\n",
              "      <td>Online</td>\n",
              "      <td>Cancellation Plan</td>\n",
              "      <td>93</td>\n",
              "      <td>NEW ZEALAND</td>\n",
              "      <td>63.0</td>\n",
              "      <td>0.00</td>\n",
              "      <td>NaN</td>\n",
              "      <td>36</td>\n",
              "      <td>0</td>\n",
              "    </tr>\n",
              "    <tr>\n",
              "      <th>2</th>\n",
              "      <td>EPX</td>\n",
              "      <td>Travel Agency</td>\n",
              "      <td>Online</td>\n",
              "      <td>2 way Comprehensive Plan</td>\n",
              "      <td>22</td>\n",
              "      <td>UNITED STATES</td>\n",
              "      <td>22.0</td>\n",
              "      <td>0.00</td>\n",
              "      <td>NaN</td>\n",
              "      <td>25</td>\n",
              "      <td>0</td>\n",
              "    </tr>\n",
              "    <tr>\n",
              "      <th>3</th>\n",
              "      <td>C2B</td>\n",
              "      <td>Airlines</td>\n",
              "      <td>Online</td>\n",
              "      <td>Silver Plan</td>\n",
              "      <td>14</td>\n",
              "      <td>SINGAPORE</td>\n",
              "      <td>54.5</td>\n",
              "      <td>13.63</td>\n",
              "      <td>M</td>\n",
              "      <td>24</td>\n",
              "      <td>0</td>\n",
              "    </tr>\n",
              "    <tr>\n",
              "      <th>4</th>\n",
              "      <td>EPX</td>\n",
              "      <td>Travel Agency</td>\n",
              "      <td>Online</td>\n",
              "      <td>Cancellation Plan</td>\n",
              "      <td>90</td>\n",
              "      <td>VIET NAM</td>\n",
              "      <td>10.0</td>\n",
              "      <td>0.00</td>\n",
              "      <td>NaN</td>\n",
              "      <td>23</td>\n",
              "      <td>0</td>\n",
              "    </tr>\n",
              "  </tbody>\n",
              "</table>\n",
              "</div>"
            ],
            "text/plain": [
              "  Agency    Agency Type Distribution Channel  ... Gender  Age Claim\n",
              "0    CWT  Travel Agency               Online  ...    NaN   29     0\n",
              "1    EPX  Travel Agency               Online  ...    NaN   36     0\n",
              "2    EPX  Travel Agency               Online  ...    NaN   25     0\n",
              "3    C2B       Airlines               Online  ...      M   24     0\n",
              "4    EPX  Travel Agency               Online  ...    NaN   23     0\n",
              "\n",
              "[5 rows x 11 columns]"
            ]
          },
          "metadata": {
            "tags": []
          },
          "execution_count": 3
        }
      ]
    },
    {
      "cell_type": "code",
      "metadata": {
        "colab": {
          "base_uri": "https://localhost:8080/"
        },
        "id": "LHSdNeKG-ibv",
        "outputId": "0c0d0b76-b3b4-4cf5-b832-b2685791bf79"
      },
      "source": [
        "insurance_data.info()"
      ],
      "execution_count": 4,
      "outputs": [
        {
          "output_type": "stream",
          "text": [
            "<class 'pandas.core.frame.DataFrame'>\n",
            "RangeIndex: 48260 entries, 0 to 48259\n",
            "Data columns (total 11 columns):\n",
            " #   Column                Non-Null Count  Dtype  \n",
            "---  ------                --------------  -----  \n",
            " 0   Agency                48260 non-null  object \n",
            " 1   Agency Type           48260 non-null  object \n",
            " 2   Distribution Channel  48260 non-null  object \n",
            " 3   Product Name          48260 non-null  object \n",
            " 4   Duration              48260 non-null  int64  \n",
            " 5   Destination           48260 non-null  object \n",
            " 6   Net Sales             48260 non-null  float64\n",
            " 7   Commision (in value)  48260 non-null  float64\n",
            " 8   Gender                13899 non-null  object \n",
            " 9   Age                   48260 non-null  int64  \n",
            " 10  Claim                 48260 non-null  int64  \n",
            "dtypes: float64(2), int64(3), object(6)\n",
            "memory usage: 4.1+ MB\n"
          ],
          "name": "stdout"
        }
      ]
    },
    {
      "cell_type": "code",
      "metadata": {
        "colab": {
          "base_uri": "https://localhost:8080/"
        },
        "id": "shHTMe_fDazd",
        "outputId": "800483ba-528d-411e-a3fc-7c81243fb642"
      },
      "source": [
        "count_of_missval_by_col = (insurance_data.isnull().sum())\r\n",
        "print(count_of_missval_by_col)"
      ],
      "execution_count": 5,
      "outputs": [
        {
          "output_type": "stream",
          "text": [
            "Agency                      0\n",
            "Agency Type                 0\n",
            "Distribution Channel        0\n",
            "Product Name                0\n",
            "Duration                    0\n",
            "Destination                 0\n",
            "Net Sales                   0\n",
            "Commision (in value)        0\n",
            "Gender                  34361\n",
            "Age                         0\n",
            "Claim                       0\n",
            "dtype: int64\n"
          ],
          "name": "stdout"
        }
      ]
    },
    {
      "cell_type": "code",
      "metadata": {
        "id": "fasx4dgMEMDG"
      },
      "source": [
        "#1.Fill the missing values in 'Gender' column with 'Not Specified'\r\n",
        "from sklearn.impute import SimpleImputer\r\n",
        "const_imputer = SimpleImputer(missing_values=np.NaN, strategy='constant', fill_value='Not Specified')\r\n",
        "const_imputer = const_imputer.fit(insurance_data[['Gender']])\r\n",
        "insurance_data['Gender'] = const_imputer.transform(insurance_data[['Gender']]).ravel()"
      ],
      "execution_count": 6,
      "outputs": []
    },
    {
      "cell_type": "code",
      "metadata": {
        "id": "m97sxHTkOqYd"
      },
      "source": [
        "\r\n",
        "#2.Drop 'Distribution Channel', 'Destination' and 'Agency Type'.\r\n",
        "del insurance_data['Agency Type']\r\n",
        "del insurance_data['Destination']\r\n",
        "del insurance_data['Distribution Channel']"
      ],
      "execution_count": 7,
      "outputs": []
    },
    {
      "cell_type": "code",
      "metadata": {
        "colab": {
          "base_uri": "https://localhost:8080/",
          "height": 215
        },
        "id": "pgk9MWG504Rj",
        "outputId": "833978b0-e963-4a6f-b478-48c0e1c80960"
      },
      "source": [
        "numeric_data = insurance_data[['Duration','Age']]\r\n",
        "for feature in numeric_data.columns:\r\n",
        "  sns.boxplot(x=y_train, y=feature, data=numeric_data)\r\n",
        "  plt.show()"
      ],
      "execution_count": 8,
      "outputs": [
        {
          "output_type": "error",
          "ename": "NameError",
          "evalue": "ignored",
          "traceback": [
            "\u001b[0;31m---------------------------------------------------------------------------\u001b[0m",
            "\u001b[0;31mNameError\u001b[0m                                 Traceback (most recent call last)",
            "\u001b[0;32m<ipython-input-8-a8f4139b44d1>\u001b[0m in \u001b[0;36m<module>\u001b[0;34m()\u001b[0m\n\u001b[1;32m      1\u001b[0m \u001b[0mnumeric_data\u001b[0m \u001b[0;34m=\u001b[0m \u001b[0minsurance_data\u001b[0m\u001b[0;34m[\u001b[0m\u001b[0;34m[\u001b[0m\u001b[0;34m'Duration'\u001b[0m\u001b[0;34m,\u001b[0m\u001b[0;34m'Age'\u001b[0m\u001b[0;34m]\u001b[0m\u001b[0;34m]\u001b[0m\u001b[0;34m\u001b[0m\u001b[0;34m\u001b[0m\u001b[0m\n\u001b[1;32m      2\u001b[0m \u001b[0;32mfor\u001b[0m \u001b[0mfeature\u001b[0m \u001b[0;32min\u001b[0m \u001b[0mnumeric_data\u001b[0m\u001b[0;34m.\u001b[0m\u001b[0mcolumns\u001b[0m\u001b[0;34m:\u001b[0m\u001b[0;34m\u001b[0m\u001b[0;34m\u001b[0m\u001b[0m\n\u001b[0;32m----> 3\u001b[0;31m   \u001b[0msns\u001b[0m\u001b[0;34m.\u001b[0m\u001b[0mboxplot\u001b[0m\u001b[0;34m(\u001b[0m\u001b[0mx\u001b[0m\u001b[0;34m=\u001b[0m\u001b[0my_train\u001b[0m\u001b[0;34m,\u001b[0m \u001b[0my\u001b[0m\u001b[0;34m=\u001b[0m\u001b[0mfeature\u001b[0m\u001b[0;34m,\u001b[0m \u001b[0mdata\u001b[0m\u001b[0;34m=\u001b[0m\u001b[0mnumeric_data\u001b[0m\u001b[0;34m)\u001b[0m\u001b[0;34m\u001b[0m\u001b[0;34m\u001b[0m\u001b[0m\n\u001b[0m\u001b[1;32m      4\u001b[0m   \u001b[0mplt\u001b[0m\u001b[0;34m.\u001b[0m\u001b[0mshow\u001b[0m\u001b[0;34m(\u001b[0m\u001b[0;34m)\u001b[0m\u001b[0;34m\u001b[0m\u001b[0;34m\u001b[0m\u001b[0m\n",
            "\u001b[0;31mNameError\u001b[0m: name 'y_train' is not defined"
          ]
        }
      ]
    },
    {
      "cell_type": "code",
      "metadata": {
        "colab": {
          "base_uri": "https://localhost:8080/",
          "height": 269
        },
        "id": "K4tfqupT8oG_",
        "outputId": "bb77d404-935f-4ee0-e5a1-f8e84367a46d"
      },
      "source": [
        "# IQR method for outlier Age\r\n",
        "# Calculate Q1, Q2 and IQR\r\n",
        "q1 = insurance_data['Age'].quantile(0.25)                 \r\n",
        "q3 = insurance_data['Age'].quantile(0.75)\r\n",
        "iqr = q3 - q1\r\n",
        "whisker_width = 1.5\r\n",
        "# Apply filter with respect to IQR, including optional whiskers\r\n",
        "outlier_age_train = insurance_data[(insurance_data['Age'] < q1 - whisker_width*iqr) | (insurance_data['Age'] > q3 + whisker_width*iqr)]\r\n",
        "outlier_age_train\r\n",
        "\r\n",
        "# boxplot with 1.5 whiskers\r\n",
        "sns.boxplot(y='Age', data = insurance_data, whis=1.5)"
      ],
      "execution_count": 9,
      "outputs": [
        {
          "output_type": "execute_result",
          "data": {
            "text/plain": [
              "<matplotlib.axes._subplots.AxesSubplot at 0x7fefd42fbf28>"
            ]
          },
          "metadata": {
            "tags": []
          },
          "execution_count": 9
        },
        {
          "output_type": "display_data",
          "data": {
            "image/png": "[encoded data removed]",
            "text/plain": [
              "<Figure size 432x288 with 1 Axes>"
            ]
          },
          "metadata": {
            "tags": [],
            "needs_background": "light"
          }
        }
      ]
    },
    {
      "cell_type": "code",
      "metadata": {
        "colab": {
          "base_uri": "https://localhost:8080/",
          "height": 292
        },
        "id": "1Zf7BxEn0vrN",
        "outputId": "49e2dba5-9711-4cb0-8586-58f93eb33d45"
      },
      "source": [
        "#3.Perform one hot encoding for 'Agency','Gender','Product Name' using sklearn\r\n",
        "insurance_data.shape\r\n",
        "insurance_data = pd.get_dummies(insurance_data, columns=['Agency','Gender','Product Name'])\r\n",
        "insurance_data.shape\r\n",
        "insurance_data.head()"
      ],
      "execution_count": 10,
      "outputs": [
        {
          "output_type": "execute_result",
          "data": {
            "text/html": [
              "<div>\n",
              "<style scoped>\n",
              "    .dataframe tbody tr th:only-of-type {\n",
              "        vertical-align: middle;\n",
              "    }\n",
              "\n",
              "    .dataframe tbody tr th {\n",
              "        vertical-align: top;\n",
              "    }\n",
              "\n",
              "    .dataframe thead th {\n",
              "        text-align: right;\n",
              "    }\n",
              "</style>\n",
              "<table border=\"1\" class=\"dataframe\">\n",
              "  <thead>\n",
              "    <tr style=\"text-align: right;\">\n",
              "      <th></th>\n",
              "      <th>Duration</th>\n",
              "      <th>Net Sales</th>\n",
              "      <th>Commision (in value)</th>\n",
              "      <th>Age</th>\n",
              "      <th>Claim</th>\n",
              "      <th>Agency_ADM</th>\n",
              "      <th>Agency_ART</th>\n",
              "      <th>Agency_C2B</th>\n",
              "      <th>Agency_CBH</th>\n",
              "      <th>Agency_CCR</th>\n",
              "      <th>Agency_CSR</th>\n",
              "      <th>Agency_CWT</th>\n",
              "      <th>Agency_EPX</th>\n",
              "      <th>Agency_JWT</th>\n",
              "      <th>Agency_JZI</th>\n",
              "      <th>Agency_KML</th>\n",
              "      <th>Agency_LWC</th>\n",
              "      <th>Agency_RAB</th>\n",
              "      <th>Agency_SSI</th>\n",
              "      <th>Agency_TST</th>\n",
              "      <th>Agency_TTW</th>\n",
              "      <th>Gender_F</th>\n",
              "      <th>Gender_M</th>\n",
              "      <th>Gender_Not Specified</th>\n",
              "      <th>Product Name_1 way Comprehensive Plan</th>\n",
              "      <th>Product Name_2 way Comprehensive Plan</th>\n",
              "      <th>Product Name_24 Protect</th>\n",
              "      <th>Product Name_Annual Gold Plan</th>\n",
              "      <th>Product Name_Annual Silver Plan</th>\n",
              "      <th>Product Name_Annual Travel Protect Gold</th>\n",
              "      <th>Product Name_Annual Travel Protect Platinum</th>\n",
              "      <th>Product Name_Annual Travel Protect Silver</th>\n",
              "      <th>Product Name_Basic Plan</th>\n",
              "      <th>Product Name_Bronze Plan</th>\n",
              "      <th>Product Name_Cancellation Plan</th>\n",
              "      <th>Product Name_Child Comprehensive Plan</th>\n",
              "      <th>Product Name_Comprehensive Plan</th>\n",
              "      <th>Product Name_Gold Plan</th>\n",
              "      <th>Product Name_Individual Comprehensive Plan</th>\n",
              "      <th>Product Name_Premier Plan</th>\n",
              "      <th>Product Name_Rental Vehicle Excess Insurance</th>\n",
              "      <th>Product Name_Silver Plan</th>\n",
              "      <th>Product Name_Single Trip Travel Protect Gold</th>\n",
              "      <th>Product Name_Single Trip Travel Protect Platinum</th>\n",
              "      <th>Product Name_Single Trip Travel Protect Silver</th>\n",
              "      <th>Product Name_Spouse or Parents Comprehensive Plan</th>\n",
              "      <th>Product Name_Ticket Protector</th>\n",
              "      <th>Product Name_Travel Cruise Protect</th>\n",
              "      <th>Product Name_Travel Cruise Protect Family</th>\n",
              "      <th>Product Name_Value Plan</th>\n",
              "    </tr>\n",
              "  </thead>\n",
              "  <tbody>\n",
              "    <tr>\n",
              "      <th>0</th>\n",
              "      <td>61</td>\n",
              "      <td>19.8</td>\n",
              "      <td>11.88</td>\n",
              "      <td>29</td>\n",
              "      <td>0</td>\n",
              "      <td>0</td>\n",
              "      <td>0</td>\n",
              "      <td>0</td>\n",
              "      <td>0</td>\n",
              "      <td>0</td>\n",
              "      <td>0</td>\n",
              "      <td>1</td>\n",
              "      <td>0</td>\n",
              "      <td>0</td>\n",
              "      <td>0</td>\n",
              "      <td>0</td>\n",
              "      <td>0</td>\n",
              "      <td>0</td>\n",
              "      <td>0</td>\n",
              "      <td>0</td>\n",
              "      <td>0</td>\n",
              "      <td>0</td>\n",
              "      <td>0</td>\n",
              "      <td>1</td>\n",
              "      <td>0</td>\n",
              "      <td>0</td>\n",
              "      <td>0</td>\n",
              "      <td>0</td>\n",
              "      <td>0</td>\n",
              "      <td>0</td>\n",
              "      <td>0</td>\n",
              "      <td>0</td>\n",
              "      <td>0</td>\n",
              "      <td>0</td>\n",
              "      <td>0</td>\n",
              "      <td>0</td>\n",
              "      <td>0</td>\n",
              "      <td>0</td>\n",
              "      <td>0</td>\n",
              "      <td>0</td>\n",
              "      <td>1</td>\n",
              "      <td>0</td>\n",
              "      <td>0</td>\n",
              "      <td>0</td>\n",
              "      <td>0</td>\n",
              "      <td>0</td>\n",
              "      <td>0</td>\n",
              "      <td>0</td>\n",
              "      <td>0</td>\n",
              "      <td>0</td>\n",
              "    </tr>\n",
              "    <tr>\n",
              "      <th>1</th>\n",
              "      <td>93</td>\n",
              "      <td>63.0</td>\n",
              "      <td>0.00</td>\n",
              "      <td>36</td>\n",
              "      <td>0</td>\n",
              "      <td>0</td>\n",
              "      <td>0</td>\n",
              "      <td>0</td>\n",
              "      <td>0</td>\n",
              "      <td>0</td>\n",
              "      <td>0</td>\n",
              "      <td>0</td>\n",
              "      <td>1</td>\n",
              "      <td>0</td>\n",
              "      <td>0</td>\n",
              "      <td>0</td>\n",
              "      <td>0</td>\n",
              "      <td>0</td>\n",
              "      <td>0</td>\n",
              "      <td>0</td>\n",
              "      <td>0</td>\n",
              "      <td>0</td>\n",
              "      <td>0</td>\n",
              "      <td>1</td>\n",
              "      <td>0</td>\n",
              "      <td>0</td>\n",
              "      <td>0</td>\n",
              "      <td>0</td>\n",
              "      <td>0</td>\n",
              "      <td>0</td>\n",
              "      <td>0</td>\n",
              "      <td>0</td>\n",
              "      <td>0</td>\n",
              "      <td>0</td>\n",
              "      <td>1</td>\n",
              "      <td>0</td>\n",
              "      <td>0</td>\n",
              "      <td>0</td>\n",
              "      <td>0</td>\n",
              "      <td>0</td>\n",
              "      <td>0</td>\n",
              "      <td>0</td>\n",
              "      <td>0</td>\n",
              "      <td>0</td>\n",
              "      <td>0</td>\n",
              "      <td>0</td>\n",
              "      <td>0</td>\n",
              "      <td>0</td>\n",
              "      <td>0</td>\n",
              "      <td>0</td>\n",
              "    </tr>\n",
              "    <tr>\n",
              "      <th>2</th>\n",
              "      <td>22</td>\n",
              "      <td>22.0</td>\n",
              "      <td>0.00</td>\n",
              "      <td>25</td>\n",
              "      <td>0</td>\n",
              "      <td>0</td>\n",
              "      <td>0</td>\n",
              "      <td>0</td>\n",
              "      <td>0</td>\n",
              "      <td>0</td>\n",
              "      <td>0</td>\n",
              "      <td>0</td>\n",
              "      <td>1</td>\n",
              "      <td>0</td>\n",
              "      <td>0</td>\n",
              "      <td>0</td>\n",
              "      <td>0</td>\n",
              "      <td>0</td>\n",
              "      <td>0</td>\n",
              "      <td>0</td>\n",
              "      <td>0</td>\n",
              "      <td>0</td>\n",
              "      <td>0</td>\n",
              "      <td>1</td>\n",
              "      <td>0</td>\n",
              "      <td>1</td>\n",
              "      <td>0</td>\n",
              "      <td>0</td>\n",
              "      <td>0</td>\n",
              "      <td>0</td>\n",
              "      <td>0</td>\n",
              "      <td>0</td>\n",
              "      <td>0</td>\n",
              "      <td>0</td>\n",
              "      <td>0</td>\n",
              "      <td>0</td>\n",
              "      <td>0</td>\n",
              "      <td>0</td>\n",
              "      <td>0</td>\n",
              "      <td>0</td>\n",
              "      <td>0</td>\n",
              "      <td>0</td>\n",
              "      <td>0</td>\n",
              "      <td>0</td>\n",
              "      <td>0</td>\n",
              "      <td>0</td>\n",
              "      <td>0</td>\n",
              "      <td>0</td>\n",
              "      <td>0</td>\n",
              "      <td>0</td>\n",
              "    </tr>\n",
              "    <tr>\n",
              "      <th>3</th>\n",
              "      <td>14</td>\n",
              "      <td>54.5</td>\n",
              "      <td>13.63</td>\n",
              "      <td>24</td>\n",
              "      <td>0</td>\n",
              "      <td>0</td>\n",
              "      <td>0</td>\n",
              "      <td>1</td>\n",
              "      <td>0</td>\n",
              "      <td>0</td>\n",
              "      <td>0</td>\n",
              "      <td>0</td>\n",
              "      <td>0</td>\n",
              "      <td>0</td>\n",
              "      <td>0</td>\n",
              "      <td>0</td>\n",
              "      <td>0</td>\n",
              "      <td>0</td>\n",
              "      <td>0</td>\n",
              "      <td>0</td>\n",
              "      <td>0</td>\n",
              "      <td>0</td>\n",
              "      <td>1</td>\n",
              "      <td>0</td>\n",
              "      <td>0</td>\n",
              "      <td>0</td>\n",
              "      <td>0</td>\n",
              "      <td>0</td>\n",
              "      <td>0</td>\n",
              "      <td>0</td>\n",
              "      <td>0</td>\n",
              "      <td>0</td>\n",
              "      <td>0</td>\n",
              "      <td>0</td>\n",
              "      <td>0</td>\n",
              "      <td>0</td>\n",
              "      <td>0</td>\n",
              "      <td>0</td>\n",
              "      <td>0</td>\n",
              "      <td>0</td>\n",
              "      <td>0</td>\n",
              "      <td>1</td>\n",
              "      <td>0</td>\n",
              "      <td>0</td>\n",
              "      <td>0</td>\n",
              "      <td>0</td>\n",
              "      <td>0</td>\n",
              "      <td>0</td>\n",
              "      <td>0</td>\n",
              "      <td>0</td>\n",
              "    </tr>\n",
              "    <tr>\n",
              "      <th>4</th>\n",
              "      <td>90</td>\n",
              "      <td>10.0</td>\n",
              "      <td>0.00</td>\n",
              "      <td>23</td>\n",
              "      <td>0</td>\n",
              "      <td>0</td>\n",
              "      <td>0</td>\n",
              "      <td>0</td>\n",
              "      <td>0</td>\n",
              "      <td>0</td>\n",
              "      <td>0</td>\n",
              "      <td>0</td>\n",
              "      <td>1</td>\n",
              "      <td>0</td>\n",
              "      <td>0</td>\n",
              "      <td>0</td>\n",
              "      <td>0</td>\n",
              "      <td>0</td>\n",
              "      <td>0</td>\n",
              "      <td>0</td>\n",
              "      <td>0</td>\n",
              "      <td>0</td>\n",
              "      <td>0</td>\n",
              "      <td>1</td>\n",
              "      <td>0</td>\n",
              "      <td>0</td>\n",
              "      <td>0</td>\n",
              "      <td>0</td>\n",
              "      <td>0</td>\n",
              "      <td>0</td>\n",
              "      <td>0</td>\n",
              "      <td>0</td>\n",
              "      <td>0</td>\n",
              "      <td>0</td>\n",
              "      <td>1</td>\n",
              "      <td>0</td>\n",
              "      <td>0</td>\n",
              "      <td>0</td>\n",
              "      <td>0</td>\n",
              "      <td>0</td>\n",
              "      <td>0</td>\n",
              "      <td>0</td>\n",
              "      <td>0</td>\n",
              "      <td>0</td>\n",
              "      <td>0</td>\n",
              "      <td>0</td>\n",
              "      <td>0</td>\n",
              "      <td>0</td>\n",
              "      <td>0</td>\n",
              "      <td>0</td>\n",
              "    </tr>\n",
              "  </tbody>\n",
              "</table>\n",
              "</div>"
            ],
            "text/plain": [
              "   Duration  ...  Product Name_Value Plan\n",
              "0        61  ...                        0\n",
              "1        93  ...                        0\n",
              "2        22  ...                        0\n",
              "3        14  ...                        0\n",
              "4        90  ...                        0\n",
              "\n",
              "[5 rows x 50 columns]"
            ]
          },
          "metadata": {
            "tags": []
          },
          "execution_count": 10
        }
      ]
    },
    {
      "cell_type": "code",
      "metadata": {
        "id": "2M5eSNkeIQhE"
      },
      "source": [
        "X=insurance_data.drop('Claim',axis=1)\r\n",
        "y=insurance_data['Claim']"
      ],
      "execution_count": 11,
      "outputs": []
    },
    {
      "cell_type": "code",
      "metadata": {
        "colab": {
          "base_uri": "https://localhost:8080/",
          "height": 292
        },
        "id": "99etc82ZY8x3",
        "outputId": "20afb938-42d9-4126-cb0d-8f27011fbe66"
      },
      "source": [
        "from sklearn.preprocessing import StandardScaler\r\n",
        "scaled_features = StandardScaler().fit_transform(X)\r\n",
        "scaled_features = pd.DataFrame(data=scaled_features)\r\n",
        "scaled_features.columns= X.columns\r\n",
        "\r\n",
        "# Let's see how the data looks after scaling\r\n",
        "scaled_features.head()"
      ],
      "execution_count": 12,
      "outputs": [
        {
          "output_type": "execute_result",
          "data": {
            "text/html": [
              "<div>\n",
              "<style scoped>\n",
              "    .dataframe tbody tr th:only-of-type {\n",
              "        vertical-align: middle;\n",
              "    }\n",
              "\n",
              "    .dataframe tbody tr th {\n",
              "        vertical-align: top;\n",
              "    }\n",
              "\n",
              "    .dataframe thead th {\n",
              "        text-align: right;\n",
              "    }\n",
              "</style>\n",
              "<table border=\"1\" class=\"dataframe\">\n",
              "  <thead>\n",
              "    <tr style=\"text-align: right;\">\n",
              "      <th></th>\n",
              "      <th>Duration</th>\n",
              "      <th>Net Sales</th>\n",
              "      <th>Commision (in value)</th>\n",
              "      <th>Age</th>\n",
              "      <th>Agency_ADM</th>\n",
              "      <th>Agency_ART</th>\n",
              "      <th>Agency_C2B</th>\n",
              "      <th>Agency_CBH</th>\n",
              "      <th>Agency_CCR</th>\n",
              "      <th>Agency_CSR</th>\n",
              "      <th>Agency_CWT</th>\n",
              "      <th>Agency_EPX</th>\n",
              "      <th>Agency_JWT</th>\n",
              "      <th>Agency_JZI</th>\n",
              "      <th>Agency_KML</th>\n",
              "      <th>Agency_LWC</th>\n",
              "      <th>Agency_RAB</th>\n",
              "      <th>Agency_SSI</th>\n",
              "      <th>Agency_TST</th>\n",
              "      <th>Agency_TTW</th>\n",
              "      <th>Gender_F</th>\n",
              "      <th>Gender_M</th>\n",
              "      <th>Gender_Not Specified</th>\n",
              "      <th>Product Name_1 way Comprehensive Plan</th>\n",
              "      <th>Product Name_2 way Comprehensive Plan</th>\n",
              "      <th>Product Name_24 Protect</th>\n",
              "      <th>Product Name_Annual Gold Plan</th>\n",
              "      <th>Product Name_Annual Silver Plan</th>\n",
              "      <th>Product Name_Annual Travel Protect Gold</th>\n",
              "      <th>Product Name_Annual Travel Protect Platinum</th>\n",
              "      <th>Product Name_Annual Travel Protect Silver</th>\n",
              "      <th>Product Name_Basic Plan</th>\n",
              "      <th>Product Name_Bronze Plan</th>\n",
              "      <th>Product Name_Cancellation Plan</th>\n",
              "      <th>Product Name_Child Comprehensive Plan</th>\n",
              "      <th>Product Name_Comprehensive Plan</th>\n",
              "      <th>Product Name_Gold Plan</th>\n",
              "      <th>Product Name_Individual Comprehensive Plan</th>\n",
              "      <th>Product Name_Premier Plan</th>\n",
              "      <th>Product Name_Rental Vehicle Excess Insurance</th>\n",
              "      <th>Product Name_Silver Plan</th>\n",
              "      <th>Product Name_Single Trip Travel Protect Gold</th>\n",
              "      <th>Product Name_Single Trip Travel Protect Platinum</th>\n",
              "      <th>Product Name_Single Trip Travel Protect Silver</th>\n",
              "      <th>Product Name_Spouse or Parents Comprehensive Plan</th>\n",
              "      <th>Product Name_Ticket Protector</th>\n",
              "      <th>Product Name_Travel Cruise Protect</th>\n",
              "      <th>Product Name_Travel Cruise Protect Family</th>\n",
              "      <th>Product Name_Value Plan</th>\n",
              "    </tr>\n",
              "  </thead>\n",
              "  <tbody>\n",
              "    <tr>\n",
              "      <th>0</th>\n",
              "      <td>0.109260</td>\n",
              "      <td>-0.429055</td>\n",
              "      <td>0.105014</td>\n",
              "      <td>-0.779007</td>\n",
              "      <td>-0.034084</td>\n",
              "      <td>-0.071871</td>\n",
              "      <td>-0.386775</td>\n",
              "      <td>-0.038113</td>\n",
              "      <td>-0.056764</td>\n",
              "      <td>-0.037006</td>\n",
              "      <td>2.518586</td>\n",
              "      <td>-1.113396</td>\n",
              "      <td>-0.110292</td>\n",
              "      <td>-0.334292</td>\n",
              "      <td>-0.078156</td>\n",
              "      <td>-0.105577</td>\n",
              "      <td>-0.110003</td>\n",
              "      <td>-0.130408</td>\n",
              "      <td>-0.090144</td>\n",
              "      <td>-0.038654</td>\n",
              "      <td>-0.403668</td>\n",
              "      <td>-0.416596</td>\n",
              "      <td>0.636003</td>\n",
              "      <td>-0.234229</td>\n",
              "      <td>-0.511243</td>\n",
              "      <td>-0.061696</td>\n",
              "      <td>-0.056024</td>\n",
              "      <td>-0.15187</td>\n",
              "      <td>-0.039976</td>\n",
              "      <td>-0.027322</td>\n",
              "      <td>-0.036441</td>\n",
              "      <td>-0.309109</td>\n",
              "      <td>-0.260054</td>\n",
              "      <td>-0.645751</td>\n",
              "      <td>-0.012044</td>\n",
              "      <td>-0.076255</td>\n",
              "      <td>-0.076255</td>\n",
              "      <td>-0.033158</td>\n",
              "      <td>-0.054515</td>\n",
              "      <td>2.518586</td>\n",
              "      <td>-0.191372</td>\n",
              "      <td>-0.056947</td>\n",
              "      <td>-0.033158</td>\n",
              "      <td>-0.055086</td>\n",
              "      <td>-0.015771</td>\n",
              "      <td>-0.130408</td>\n",
              "      <td>-0.090027</td>\n",
              "      <td>-0.004552</td>\n",
              "      <td>-0.212336</td>\n",
              "    </tr>\n",
              "    <tr>\n",
              "      <th>1</th>\n",
              "      <td>0.414525</td>\n",
              "      <td>0.455779</td>\n",
              "      <td>-0.498181</td>\n",
              "      <td>-0.279976</td>\n",
              "      <td>-0.034084</td>\n",
              "      <td>-0.071871</td>\n",
              "      <td>-0.386775</td>\n",
              "      <td>-0.038113</td>\n",
              "      <td>-0.056764</td>\n",
              "      <td>-0.037006</td>\n",
              "      <td>-0.397048</td>\n",
              "      <td>0.898153</td>\n",
              "      <td>-0.110292</td>\n",
              "      <td>-0.334292</td>\n",
              "      <td>-0.078156</td>\n",
              "      <td>-0.105577</td>\n",
              "      <td>-0.110003</td>\n",
              "      <td>-0.130408</td>\n",
              "      <td>-0.090144</td>\n",
              "      <td>-0.038654</td>\n",
              "      <td>-0.403668</td>\n",
              "      <td>-0.416596</td>\n",
              "      <td>0.636003</td>\n",
              "      <td>-0.234229</td>\n",
              "      <td>-0.511243</td>\n",
              "      <td>-0.061696</td>\n",
              "      <td>-0.056024</td>\n",
              "      <td>-0.15187</td>\n",
              "      <td>-0.039976</td>\n",
              "      <td>-0.027322</td>\n",
              "      <td>-0.036441</td>\n",
              "      <td>-0.309109</td>\n",
              "      <td>-0.260054</td>\n",
              "      <td>1.548584</td>\n",
              "      <td>-0.012044</td>\n",
              "      <td>-0.076255</td>\n",
              "      <td>-0.076255</td>\n",
              "      <td>-0.033158</td>\n",
              "      <td>-0.054515</td>\n",
              "      <td>-0.397048</td>\n",
              "      <td>-0.191372</td>\n",
              "      <td>-0.056947</td>\n",
              "      <td>-0.033158</td>\n",
              "      <td>-0.055086</td>\n",
              "      <td>-0.015771</td>\n",
              "      <td>-0.130408</td>\n",
              "      <td>-0.090027</td>\n",
              "      <td>-0.004552</td>\n",
              "      <td>-0.212336</td>\n",
              "    </tr>\n",
              "    <tr>\n",
              "      <th>2</th>\n",
              "      <td>-0.262781</td>\n",
              "      <td>-0.383994</td>\n",
              "      <td>-0.498181</td>\n",
              "      <td>-1.064167</td>\n",
              "      <td>-0.034084</td>\n",
              "      <td>-0.071871</td>\n",
              "      <td>-0.386775</td>\n",
              "      <td>-0.038113</td>\n",
              "      <td>-0.056764</td>\n",
              "      <td>-0.037006</td>\n",
              "      <td>-0.397048</td>\n",
              "      <td>0.898153</td>\n",
              "      <td>-0.110292</td>\n",
              "      <td>-0.334292</td>\n",
              "      <td>-0.078156</td>\n",
              "      <td>-0.105577</td>\n",
              "      <td>-0.110003</td>\n",
              "      <td>-0.130408</td>\n",
              "      <td>-0.090144</td>\n",
              "      <td>-0.038654</td>\n",
              "      <td>-0.403668</td>\n",
              "      <td>-0.416596</td>\n",
              "      <td>0.636003</td>\n",
              "      <td>-0.234229</td>\n",
              "      <td>1.956016</td>\n",
              "      <td>-0.061696</td>\n",
              "      <td>-0.056024</td>\n",
              "      <td>-0.15187</td>\n",
              "      <td>-0.039976</td>\n",
              "      <td>-0.027322</td>\n",
              "      <td>-0.036441</td>\n",
              "      <td>-0.309109</td>\n",
              "      <td>-0.260054</td>\n",
              "      <td>-0.645751</td>\n",
              "      <td>-0.012044</td>\n",
              "      <td>-0.076255</td>\n",
              "      <td>-0.076255</td>\n",
              "      <td>-0.033158</td>\n",
              "      <td>-0.054515</td>\n",
              "      <td>-0.397048</td>\n",
              "      <td>-0.191372</td>\n",
              "      <td>-0.056947</td>\n",
              "      <td>-0.033158</td>\n",
              "      <td>-0.055086</td>\n",
              "      <td>-0.015771</td>\n",
              "      <td>-0.130408</td>\n",
              "      <td>-0.090027</td>\n",
              "      <td>-0.004552</td>\n",
              "      <td>-0.212336</td>\n",
              "    </tr>\n",
              "    <tr>\n",
              "      <th>3</th>\n",
              "      <td>-0.339098</td>\n",
              "      <td>0.281679</td>\n",
              "      <td>0.193868</td>\n",
              "      <td>-1.135457</td>\n",
              "      <td>-0.034084</td>\n",
              "      <td>-0.071871</td>\n",
              "      <td>2.585481</td>\n",
              "      <td>-0.038113</td>\n",
              "      <td>-0.056764</td>\n",
              "      <td>-0.037006</td>\n",
              "      <td>-0.397048</td>\n",
              "      <td>-1.113396</td>\n",
              "      <td>-0.110292</td>\n",
              "      <td>-0.334292</td>\n",
              "      <td>-0.078156</td>\n",
              "      <td>-0.105577</td>\n",
              "      <td>-0.110003</td>\n",
              "      <td>-0.130408</td>\n",
              "      <td>-0.090144</td>\n",
              "      <td>-0.038654</td>\n",
              "      <td>-0.403668</td>\n",
              "      <td>2.400405</td>\n",
              "      <td>-1.572321</td>\n",
              "      <td>-0.234229</td>\n",
              "      <td>-0.511243</td>\n",
              "      <td>-0.061696</td>\n",
              "      <td>-0.056024</td>\n",
              "      <td>-0.15187</td>\n",
              "      <td>-0.039976</td>\n",
              "      <td>-0.027322</td>\n",
              "      <td>-0.036441</td>\n",
              "      <td>-0.309109</td>\n",
              "      <td>-0.260054</td>\n",
              "      <td>-0.645751</td>\n",
              "      <td>-0.012044</td>\n",
              "      <td>-0.076255</td>\n",
              "      <td>-0.076255</td>\n",
              "      <td>-0.033158</td>\n",
              "      <td>-0.054515</td>\n",
              "      <td>-0.397048</td>\n",
              "      <td>5.225417</td>\n",
              "      <td>-0.056947</td>\n",
              "      <td>-0.033158</td>\n",
              "      <td>-0.055086</td>\n",
              "      <td>-0.015771</td>\n",
              "      <td>-0.130408</td>\n",
              "      <td>-0.090027</td>\n",
              "      <td>-0.004552</td>\n",
              "      <td>-0.212336</td>\n",
              "    </tr>\n",
              "    <tr>\n",
              "      <th>4</th>\n",
              "      <td>0.385906</td>\n",
              "      <td>-0.629782</td>\n",
              "      <td>-0.498181</td>\n",
              "      <td>-1.206747</td>\n",
              "      <td>-0.034084</td>\n",
              "      <td>-0.071871</td>\n",
              "      <td>-0.386775</td>\n",
              "      <td>-0.038113</td>\n",
              "      <td>-0.056764</td>\n",
              "      <td>-0.037006</td>\n",
              "      <td>-0.397048</td>\n",
              "      <td>0.898153</td>\n",
              "      <td>-0.110292</td>\n",
              "      <td>-0.334292</td>\n",
              "      <td>-0.078156</td>\n",
              "      <td>-0.105577</td>\n",
              "      <td>-0.110003</td>\n",
              "      <td>-0.130408</td>\n",
              "      <td>-0.090144</td>\n",
              "      <td>-0.038654</td>\n",
              "      <td>-0.403668</td>\n",
              "      <td>-0.416596</td>\n",
              "      <td>0.636003</td>\n",
              "      <td>-0.234229</td>\n",
              "      <td>-0.511243</td>\n",
              "      <td>-0.061696</td>\n",
              "      <td>-0.056024</td>\n",
              "      <td>-0.15187</td>\n",
              "      <td>-0.039976</td>\n",
              "      <td>-0.027322</td>\n",
              "      <td>-0.036441</td>\n",
              "      <td>-0.309109</td>\n",
              "      <td>-0.260054</td>\n",
              "      <td>1.548584</td>\n",
              "      <td>-0.012044</td>\n",
              "      <td>-0.076255</td>\n",
              "      <td>-0.076255</td>\n",
              "      <td>-0.033158</td>\n",
              "      <td>-0.054515</td>\n",
              "      <td>-0.397048</td>\n",
              "      <td>-0.191372</td>\n",
              "      <td>-0.056947</td>\n",
              "      <td>-0.033158</td>\n",
              "      <td>-0.055086</td>\n",
              "      <td>-0.015771</td>\n",
              "      <td>-0.130408</td>\n",
              "      <td>-0.090027</td>\n",
              "      <td>-0.004552</td>\n",
              "      <td>-0.212336</td>\n",
              "    </tr>\n",
              "  </tbody>\n",
              "</table>\n",
              "</div>"
            ],
            "text/plain": [
              "   Duration  ...  Product Name_Value Plan\n",
              "0  0.109260  ...                -0.212336\n",
              "1  0.414525  ...                -0.212336\n",
              "2 -0.262781  ...                -0.212336\n",
              "3 -0.339098  ...                -0.212336\n",
              "4  0.385906  ...                -0.212336\n",
              "\n",
              "[5 rows x 49 columns]"
            ]
          },
          "metadata": {
            "tags": []
          },
          "execution_count": 12
        }
      ]
    },
    {
      "cell_type": "code",
      "metadata": {
        "id": "LQr2aHzGI3le"
      },
      "source": [
        "X_train, X_test, y_train, y_test = train_test_split(X,y,test_size=0.3, random_state=101)"
      ],
      "execution_count": 13,
      "outputs": []
    },
    {
      "cell_type": "code",
      "metadata": {
        "id": "WRuwLvwfZ4-I"
      },
      "source": [
        "# import SMOTE \r\n",
        "from imblearn.over_sampling import SMOTE\r\n",
        "\r\n",
        "sm = SMOTE(random_state = 25, sampling_strategy = 1.0)   # again we are eqalizing both the classes"
      ],
      "execution_count": 14,
      "outputs": []
    },
    {
      "cell_type": "code",
      "metadata": {
        "id": "2hSZSxtWaEVt"
      },
      "source": [
        "# fit the sampling\r\n",
        "X_train, y_train = sm.fit_sample(X_train, y_train)"
      ],
      "execution_count": 15,
      "outputs": []
    },
    {
      "cell_type": "markdown",
      "metadata": {
        "id": "7Y3bfEMGiBEo"
      },
      "source": [
        "**1.Logistic Regression**"
      ]
    },
    {
      "cell_type": "code",
      "metadata": {
        "colab": {
          "base_uri": "https://localhost:8080/"
        },
        "id": "0yhSwUZhdm6Z",
        "outputId": "432775f7-51fe-4bc1-bbce-cb1163d38e62"
      },
      "source": [
        "model =LogisticRegression(max_iter=1000)\r\n",
        "model.fit(X_train,y_train)"
      ],
      "execution_count": 16,
      "outputs": [
        {
          "output_type": "execute_result",
          "data": {
            "text/plain": [
              "LogisticRegression(C=1.0, class_weight=None, dual=False, fit_intercept=True,\n",
              "                   intercept_scaling=1, l1_ratio=None, max_iter=1000,\n",
              "                   multi_class='auto', n_jobs=None, penalty='l2',\n",
              "                   random_state=None, solver='lbfgs', tol=0.0001, verbose=0,\n",
              "                   warm_start=False)"
            ]
          },
          "metadata": {
            "tags": []
          },
          "execution_count": 16
        }
      ]
    },
    {
      "cell_type": "code",
      "metadata": {
        "colab": {
          "base_uri": "https://localhost:8080/"
        },
        "id": "AthHEBEX7lq5",
        "outputId": "2f1e2e06-79ac-4738-afe3-8f864a436218"
      },
      "source": [
        "# Use score method to get accuracy of model\r\n",
        "score = model.score(X_test, y_test)\r\n",
        "print(score)"
      ],
      "execution_count": 38,
      "outputs": [
        {
          "output_type": "stream",
          "text": [
            "0.8160657549385274\n"
          ],
          "name": "stdout"
        }
      ]
    },
    {
      "cell_type": "code",
      "metadata": {
        "colab": {
          "base_uri": "https://localhost:8080/"
        },
        "id": "L3RyaHtMenwQ",
        "outputId": "7971d484-7d08-476e-a90d-acbbf2261192"
      },
      "source": [
        "f1_score(y_test, model.predict(X_test))"
      ],
      "execution_count": 17,
      "outputs": [
        {
          "output_type": "execute_result",
          "data": {
            "text/plain": [
              "0.08832591578226635"
            ]
          },
          "metadata": {
            "tags": []
          },
          "execution_count": 17
        }
      ]
    },
    {
      "cell_type": "code",
      "metadata": {
        "colab": {
          "base_uri": "https://localhost:8080/",
          "height": 269
        },
        "id": "wScFETDL-8TJ",
        "outputId": "73312bd3-6c73-48ea-c505-e16dcdc34ae9"
      },
      "source": [
        "# IQR method for outlier fare\r\n",
        "# Calculate Q1, Q2 and IQR\r\n",
        "q1 = X['Duration'].quantile(0.25)                 \r\n",
        "q3 = X['Duration'].quantile(0.75)\r\n",
        "iqr = q3 - q1\r\n",
        "whisker_width = 1.5\r\n",
        "lower_whisker = q1 - whisker_width*iqr\r\n",
        "upper_whisker = q3 + whisker_width*iqr\r\n",
        "# Apply filter with respect to IQR, including optional whiskers\r\n",
        "outlier_fare_train = X[(X['Duration'] < q1 - whisker_width*iqr) | (X['Duration'] > q3 + whisker_width*iqr)]\r\n",
        "outlier_fare_train.shape\r\n",
        "\r\n",
        "# boxplot with 1.5 whiskers\r\n",
        "sns.boxplot(y='Duration', data = X, whis=1.5)"
      ],
      "execution_count": 18,
      "outputs": [
        {
          "output_type": "execute_result",
          "data": {
            "text/plain": [
              "<matplotlib.axes._subplots.AxesSubplot at 0x7fefd2a60d68>"
            ]
          },
          "metadata": {
            "tags": []
          },
          "execution_count": 18
        },
        {
          "output_type": "display_data",
          "data": {
            "image/png": "[encoded data removed]",
            "text/plain": [
              "<Figure size 432x288 with 1 Axes>"
            ]
          },
          "metadata": {
            "tags": [],
            "needs_background": "light"
          }
        }
      ]
    },
    {
      "cell_type": "code",
      "metadata": {
        "colab": {
          "base_uri": "https://localhost:8080/",
          "height": 265
        },
        "id": "WGQQoK8RMDWk",
        "outputId": "be9af244-fa2b-49a0-fe48-c11e3fd92b26"
      },
      "source": [
        "sns.countplot(y_train)\r\n",
        "plt.show()"
      ],
      "execution_count": 19,
      "outputs": [
        {
          "output_type": "display_data",
          "data": {
            "image/png": "[encoded data removed]",
            "text/plain": [
              "<Figure size 432x288 with 1 Axes>"
            ]
          },
          "metadata": {
            "tags": [],
            "needs_background": "light"
          }
        }
      ]
    },
    {
      "cell_type": "markdown",
      "metadata": {
        "id": "r2LOzN3Wn-wC"
      },
      "source": [
        "**2. Decision Tree**"
      ]
    },
    {
      "cell_type": "code",
      "metadata": {
        "colab": {
          "base_uri": "https://localhost:8080/"
        },
        "id": "-a8FaFVSoRNV",
        "outputId": "b031a7ce-a088-46e5-cc41-45ac9f1d9a5a"
      },
      "source": [
        "from sklearn.tree import DecisionTreeClassifier\r\n",
        "\r\n",
        "# create the model object\r\n",
        "dt = DecisionTreeClassifier(random_state=1) # max-depth controls the maximum depth of the tree\r\n",
        "\r\n",
        "# fit the model on train data\r\n",
        "dt.fit(X_train, y_train)"
      ],
      "execution_count": 34,
      "outputs": [
        {
          "output_type": "execute_result",
          "data": {
            "text/plain": [
              "DecisionTreeClassifier(ccp_alpha=0.0, class_weight=None, criterion='gini',\n",
              "                       max_depth=None, max_features=None, max_leaf_nodes=None,\n",
              "                       min_impurity_decrease=0.0, min_impurity_split=None,\n",
              "                       min_samples_leaf=1, min_samples_split=2,\n",
              "                       min_weight_fraction_leaf=0.0, presort='deprecated',\n",
              "                       random_state=1, splitter='best')"
            ]
          },
          "metadata": {
            "tags": []
          },
          "execution_count": 34
        }
      ]
    },
    {
      "cell_type": "code",
      "metadata": {
        "colab": {
          "base_uri": "https://localhost:8080/",
          "height": 419
        },
        "id": "NX_tseOPo0BJ",
        "outputId": "cf5a73ab-7240-4be3-93b2-914eeb516e47"
      },
      "source": [
        "#Predictions on the Test data\r\n",
        "predictions_dt = dt.predict(X_test)\r\n",
        "#Putting the above predictions and probabilities together to create a readable df\r\n",
        "pred_label = pd.DataFrame(predictions_dt.reshape(len(predictions_dt),1))\r\n",
        "pred_label.rename(columns={0:'prediction'}, inplace=True)\r\n",
        "pred_label.head(100)"
      ],
      "execution_count": 44,
      "outputs": [
        {
          "output_type": "execute_result",
          "data": {
            "text/html": [
              "<div>\n",
              "<style scoped>\n",
              "    .dataframe tbody tr th:only-of-type {\n",
              "        vertical-align: middle;\n",
              "    }\n",
              "\n",
              "    .dataframe tbody tr th {\n",
              "        vertical-align: top;\n",
              "    }\n",
              "\n",
              "    .dataframe thead th {\n",
              "        text-align: right;\n",
              "    }\n",
              "</style>\n",
              "<table border=\"1\" class=\"dataframe\">\n",
              "  <thead>\n",
              "    <tr style=\"text-align: right;\">\n",
              "      <th></th>\n",
              "      <th>prediction</th>\n",
              "    </tr>\n",
              "  </thead>\n",
              "  <tbody>\n",
              "    <tr>\n",
              "      <th>0</th>\n",
              "      <td>0</td>\n",
              "    </tr>\n",
              "    <tr>\n",
              "      <th>1</th>\n",
              "      <td>0</td>\n",
              "    </tr>\n",
              "    <tr>\n",
              "      <th>2</th>\n",
              "      <td>0</td>\n",
              "    </tr>\n",
              "    <tr>\n",
              "      <th>3</th>\n",
              "      <td>0</td>\n",
              "    </tr>\n",
              "    <tr>\n",
              "      <th>4</th>\n",
              "      <td>0</td>\n",
              "    </tr>\n",
              "    <tr>\n",
              "      <th>...</th>\n",
              "      <td>...</td>\n",
              "    </tr>\n",
              "    <tr>\n",
              "      <th>95</th>\n",
              "      <td>0</td>\n",
              "    </tr>\n",
              "    <tr>\n",
              "      <th>96</th>\n",
              "      <td>0</td>\n",
              "    </tr>\n",
              "    <tr>\n",
              "      <th>97</th>\n",
              "      <td>0</td>\n",
              "    </tr>\n",
              "    <tr>\n",
              "      <th>98</th>\n",
              "      <td>0</td>\n",
              "    </tr>\n",
              "    <tr>\n",
              "      <th>99</th>\n",
              "      <td>0</td>\n",
              "    </tr>\n",
              "  </tbody>\n",
              "</table>\n",
              "<p>100 rows × 1 columns</p>\n",
              "</div>"
            ],
            "text/plain": [
              "    prediction\n",
              "0            0\n",
              "1            0\n",
              "2            0\n",
              "3            0\n",
              "4            0\n",
              "..         ...\n",
              "95           0\n",
              "96           0\n",
              "97           0\n",
              "98           0\n",
              "99           0\n",
              "\n",
              "[100 rows x 1 columns]"
            ]
          },
          "metadata": {
            "tags": []
          },
          "execution_count": 44
        }
      ]
    },
    {
      "cell_type": "code",
      "metadata": {
        "colab": {
          "base_uri": "https://localhost:8080/"
        },
        "id": "bsCI8ReG17lC",
        "outputId": "5db3c7c7-2a17-4c64-b9dc-28e25089fe56"
      },
      "source": [
        "test_pred = pd.concat([y_test, pred_label], axis=1)\r\n",
        "test_pred.head(30000)\r\n",
        "pred_label.shape"
      ],
      "execution_count": 45,
      "outputs": [
        {
          "output_type": "execute_result",
          "data": {
            "text/plain": [
              "(14478, 1)"
            ]
          },
          "metadata": {
            "tags": []
          },
          "execution_count": 45
        }
      ]
    },
    {
      "cell_type": "code",
      "metadata": {
        "colab": {
          "base_uri": "https://localhost:8080/"
        },
        "id": "jW0R-Kf-2f6s",
        "outputId": "adab06af-771b-4c7d-cb2d-93d3bbe17c1c"
      },
      "source": [
        "# Accuracy score\r\n",
        "from sklearn.metrics import accuracy_score\r\n",
        "print('accuracy is',accuracy_score(y_test, pred_label)*100.0, \"%\")"
      ],
      "execution_count": 46,
      "outputs": [
        {
          "output_type": "stream",
          "text": [
            "accuracy is 96.34618041165906 %\n"
          ],
          "name": "stdout"
        }
      ]
    },
    {
      "cell_type": "code",
      "metadata": {
        "colab": {
          "base_uri": "https://localhost:8080/"
        },
        "id": "i8flO_T6AGMG",
        "outputId": "43aa1d5e-d0e9-452f-9486-e80d3305470e"
      },
      "source": [
        "f1_score(y_test, predictions_dt)"
      ],
      "execution_count": 48,
      "outputs": [
        {
          "output_type": "execute_result",
          "data": {
            "text/plain": [
              "0.0670194003527337"
            ]
          },
          "metadata": {
            "tags": []
          },
          "execution_count": 48
        }
      ]
    },
    {
      "cell_type": "markdown",
      "metadata": {
        "id": "5MJ8L8m9iRhU"
      },
      "source": [
        "**3. Randomforest**"
      ]
    },
    {
      "cell_type": "code",
      "metadata": {
        "id": "1UwxtImHiQku"
      },
      "source": [
        "from sklearn.feature_selection import SelectFromModel\r\n",
        "from sklearn.metrics import accuracy_score, f1_score\r\n",
        "from sklearn.ensemble import RandomForestClassifier"
      ],
      "execution_count": 20,
      "outputs": []
    },
    {
      "cell_type": "code",
      "metadata": {
        "colab": {
          "base_uri": "https://localhost:8080/"
        },
        "id": "6oTRf3yPjQik",
        "outputId": "e702631d-af06-4491-b7ea-62c4e78d7596"
      },
      "source": [
        "forest = RandomForestClassifier(random_state=1)\r\n",
        " \r\n",
        "forest.fit(X_train, y_train)"
      ],
      "execution_count": 23,
      "outputs": [
        {
          "output_type": "execute_result",
          "data": {
            "text/plain": [
              "RandomForestClassifier(bootstrap=True, ccp_alpha=0.0, class_weight=None,\n",
              "                       criterion='gini', max_depth=None, max_features='auto',\n",
              "                       max_leaf_nodes=None, max_samples=None,\n",
              "                       min_impurity_decrease=0.0, min_impurity_split=None,\n",
              "                       min_samples_leaf=1, min_samples_split=2,\n",
              "                       min_weight_fraction_leaf=0.0, n_estimators=100,\n",
              "                       n_jobs=None, oob_score=False, random_state=1, verbose=0,\n",
              "                       warm_start=False)"
            ]
          },
          "metadata": {
            "tags": []
          },
          "execution_count": 23
        }
      ]
    },
    {
      "cell_type": "code",
      "metadata": {
        "colab": {
          "base_uri": "https://localhost:8080/"
        },
        "id": "caak11UVjcpL",
        "outputId": "7d44baa2-895e-4b4c-aa97-14956bc77d20"
      },
      "source": [
        "f1_score(y_test, forest.predict(X_test))"
      ],
      "execution_count": 24,
      "outputs": [
        {
          "output_type": "execute_result",
          "data": {
            "text/plain": [
              "0.06746987951807228"
            ]
          },
          "metadata": {
            "tags": []
          },
          "execution_count": 24
        }
      ]
    }
  ]
}